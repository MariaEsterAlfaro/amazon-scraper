{
 "cells": [
  {
   "cell_type": "code",
   "execution_count": 1,
   "id": "77c2d268",
   "metadata": {},
   "outputs": [],
   "source": [
    "from bs4 import BeautifulSoup\n",
    "import requests\n",
    "import time\n",
    "import smtplib, ssl #to send emails"
   ]
  },
  {
   "cell_type": "code",
   "execution_count": 2,
   "id": "5ebec141",
   "metadata": {},
   "outputs": [],
   "source": [
    "#Connect to website\n",
    "url = (r'https://www.amazon.com.br/Ouvido-Headset-EDIFIER-W800BT-PLUS/dp/B08P2K1J73/ref=sr_1_5?__mk_pt_BR=%C3%85M%C3%85%C5%BD%C3%95%C3%91&crid=15FOVJRFVVSTD&keywords=HEADPHONE+BLUETOOTH+5.1+EDIFIER+W600BT&qid=1662992440&sprefix=headphone+bluetooth+5.1+edifier+w600bt%2Caps%2C196&sr=8-5&ufe=app_do%3Aamzn1.fos.fcd6d665-32ba-4479-9f21-b774e276a678')\n",
    "\n",
    "#Define headers, specific for each computer (a dictionary of HTTP headers to send to the specified url)\n",
    "#Available at:https://httpbin.org/get or inspect -> network   \n",
    "\n",
    "headers = {'authority':'www.amazon.com.br','user-agent': 'Mozilla/5.0 (Windows NT 10.0; Win64; x64) AppleWebKit/537.36 (KHTML, like Gecko) Chrome/105.0.0.0 Safari/537.36'}\n",
    "\n",
    "page = requests.get(url, headers = headers)\n",
    "\n",
    "#BeautifulSoup for pulling data out of HTML and XML files\n",
    "soup1 = BeautifulSoup(page.content, 'html')\n",
    "soup2 = BeautifulSoup(soup1.prettify(), 'html')\n",
    "\n",
    "title = soup2.find(id=\"productTitle\").get_text()\n",
    "price = soup2.find(class_=\"a-offscreen\").get_text()"
   ]
  },
  {
   "cell_type": "code",
   "execution_count": 3,
   "id": "96764ea4",
   "metadata": {},
   "outputs": [],
   "source": [
    "clean_price = price.strip()[2:].replace(',', '.')\n",
    "clean_title = title.strip()"
   ]
  },
  {
   "cell_type": "code",
   "execution_count": 4,
   "id": "674f11e2",
   "metadata": {},
   "outputs": [],
   "source": [
    "import datetime\n",
    "\n",
    "today = datetime.date.today()"
   ]
  },
  {
   "cell_type": "code",
   "execution_count": 5,
   "id": "549f28ed",
   "metadata": {},
   "outputs": [],
   "source": [
    "import csv\n",
    "import pandas as pd\n",
    "\n",
    "dict_ = {'Product': [clean_title], 'Price (R$)': [clean_price], 'Date': [today]}\n",
    "\n",
    "dataframe = pd.DataFrame(dict_)\n",
    "dataframe.to_csv('Amazon_Web_Scraper.csv', sep = ';', index=False)"
   ]
  },
  {
   "cell_type": "code",
   "execution_count": 6,
   "id": "dbf51e1f",
   "metadata": {},
   "outputs": [],
   "source": [
    "\n",
    "data = [clean_title, clean_price, today]\n",
    "\n",
    "#Appending data to the csv\n",
    "with open('Amazon_Web_Scraper.csv', 'a+', newline='', encoding='UTF8') as df:\n",
    "    writer = csv.writer(df, delimiter=';')\n",
    "    writer.writerow(data)"
   ]
  },
  {
   "cell_type": "code",
   "execution_count": 4,
   "id": "e7e36289",
   "metadata": {},
   "outputs": [],
   "source": [
    "import smtplib, ssl\n",
    "from email.message import EmailMessage\n",
    "\n",
    "def send_mail():\n",
    "    context = ssl.create_default_context()\n",
    "    subject = \"The headphone you want is below R$250! Now is your chance to buy it!\"\n",
    "    body = \"Maria Ester, the product that you want is now below R$250!\\nLink here: https://www.amazon.com.br/Ouvido-Headset-EDIFIER-W800BT-PLUS/dp/B08P2K1J73/ref=sr_1_5?__mk_pt_BR=%C3%85M%C3%85%C5%BD%C3%95%C3%91&crid=15FOVJRFVVSTD&keywords=HEADPHONE+BLUETOOTH+5.1+EDIFIER+W600BT&qid=1662992440&sprefix=headphone+bluetooth+5.1+edifier+w600bt%2Caps%2C196&sr=8-5&ufe=app_do%3Aamzn1.fos.fcd6d665-32ba-4479-9f21-b774e276a678\"\n",
    "    msg = f\"Subject: {subject}\\n\\n{body}\"\n",
    "    with smtplib.SMTP('smtp.office365.com', 587) as server:\n",
    "        server.ehlo()\n",
    "        server.starttls(context=context)\n",
    "        server.ehlo()\n",
    "        server.login('mariaesteralfaro@hotmail.com', 'xxxxxxxxx')\n",
    "        server.sendmail('mariaesteralfaro@hotmail.com', 'mariaester98.ca@gmail.com', msg)\n",
    "        server.quit()"
   ]
  },
  {
   "cell_type": "code",
   "execution_count": 5,
   "id": "b469ef2e",
   "metadata": {},
   "outputs": [],
   "source": [
    "def check_price():\n",
    "    url = (r'https://www.amazon.com.br/Ouvido-Headset-EDIFIER-W800BT-PLUS/dp/B08P2K1J73/ref=sr_1_5?__mk_pt_BR=%C3%85M%C3%85%C5%BD%C3%95%C3%91&crid=15FOVJRFVVSTD&keywords=HEADPHONE+BLUETOOTH+5.1+EDIFIER+W600BT&qid=1662992440&sprefix=headphone+bluetooth+5.1+edifier+w600bt%2Caps%2C196&sr=8-5&ufe=app_do%3Aamzn1.fos.fcd6d665-32ba-4479-9f21-b774e276a678')\n",
    "    headers = {'authority':'www.amazon.com.br','user-agent': 'Mozilla/5.0 (Windows NT 10.0; Win64; x64) AppleWebKit/537.36 (KHTML, like Gecko) Chrome/105.0.0.0 Safari/537.36'}\n",
    "    page = requests.get(url, headers=headers)\n",
    "    soup1 = BeautifulSoup(page.content, 'html.parser')\n",
    "    soup2 = BeautifulSoup(soup1.prettify(), 'html.parser')\n",
    "    title = soup2.find(id=\"productTitle\").get_text()\n",
    "    price = soup2.find(class_=\"a-offscreen\").get_text()\n",
    "    clean_price = price.strip()[2:].replace(',', '.')\n",
    "    clean_title = title.strip()\n",
    "    today = datetime.date.today()\n",
    "    header = ['Product (R$)', 'Price', 'Date']\n",
    "    data = [title, price, today]\n",
    "    #with open('Amazon_Web_Scraper.csv', 'a+', newline='', encoding='UTF8') as df:\n",
    "        #writer = csv.writer(df, delimiter=';')\n",
    "        #writer.writerow(data)\n",
    "    if (float(clean_price))<250:\n",
    "        send_mail()"
   ]
  },
  {
   "cell_type": "code",
   "execution_count": null,
   "id": "9f2a57c8",
   "metadata": {},
   "outputs": [],
   "source": [
    "while(True):\n",
    "    check_price\n",
    "    time.sleep(86400)"
   ]
  }
 ],
 "metadata": {
  "kernelspec": {
   "display_name": "Python 3",
   "language": "python",
   "name": "python3"
  },
  "language_info": {
   "codemirror_mode": {
    "name": "ipython",
    "version": 3
   },
   "file_extension": ".py",
   "mimetype": "text/x-python",
   "name": "python",
   "nbconvert_exporter": "python",
   "pygments_lexer": "ipython3",
   "version": "3.8.8"
  },
  "vscode": {
   "interpreter": {
    "hash": "3a25e79b786c3c6606b1a4a2d76bfaf5796e1c1f00737c89d4ed49231fafaef2"
   }
  }
 },
 "nbformat": 4,
 "nbformat_minor": 5
}
